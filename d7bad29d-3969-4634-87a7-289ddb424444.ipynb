{
 "cells": [
  {
   "cell_type": "markdown",
   "metadata": {},
   "source": [
    "<img src=\"http://s3.amazonaws.com/pix.iemoji.com/images/emoji/apple/ios-12/256/waving-hand.png\" align=left width=44, heigth=44>\n",
    "<div class=\"alert alert-info\">\n",
    "<b> Комментарий ревьюера</b>\n",
    "\n",
    "\n",
    "Привет, Виталий! Давай знакомиться! Меня зовут Дмитрий Махортов, и я буду проверять твой проект. Сразу предлагаю общение на «ты» 🙂, но если тебе это не комфортно, то дай знать, и мы перейдем на «вы». \n",
    "\n",
    "Моя основная цель — не указать на совершенные тобою ошибки, а поделиться своим опытом и помочь тебе погрузиться в увлекательный мир работы с данными и вырасти в крепкого профи. Это отдаленная цель. А ближайшая - сделать твою работу еще лучше )).\n",
    "   \n",
    "    \n",
    "Все ключевые этапы в работе выполнены, и я вижу что с проектом ты справшяешься. Есть моменты, которые нужно доработать, но я уверен, у тебя все получится.\n",
    "        \n",
    "Расскажу как обычно проходит проверка:    \n",
    "Бывают моменты, которые требуют пристального внимания. Комментарии по ним выделены <span style='background-color:#F7B3A4'> красным цветом </span> и обозначены значком 🛑. После их доработки проект будет принят.  🙂\n",
    " \n",
    "<span style='background-color:#B7EBA7'> Зеленым цветом </span> и значком ✅ отмечены удачные и элегантные решения, на которые можно опираться в будущих проектах. Или советы «со звездочкой», которые помогут тебе в будущем.\n",
    "\n",
    "<span style='background-color:#F9EDA6'>Жёлтым цветом </span> и значком ⚠️ выделено то, что в следующий раз можно сделать по-другому. Ты можешь учесть эти комментарии при выполнении будущих заданий или доработать проект сейчас (однако это не обязательно).\n",
    "\n",
    "Давай работать над проектом в диалоге: **если ты что-то меняешь в проекте по моим рекомендациям — пиши об этом**. Выбери для своих комментариев какой-то заметный цвет, так мне будет легче отследить изменения. Пожалуйста, **не перемещай, не изменяй и не удаляй мои комментарии**. Всё это поможет выполнить повторную проверку твоего проекта оперативнее. \n",
    "</div>"
   ]
  },
  {
   "cell_type": "markdown",
   "metadata": {},
   "source": [
    "# Рекомендация тарифов"
   ]
  },
  {
   "cell_type": "markdown",
   "metadata": {},
   "source": [
    "В вашем распоряжении данные о поведении клиентов, которые уже перешли на эти тарифы (из проекта курса «Статистический анализ данных»). Нужно построить модель для задачи классификации, которая выберет подходящий тариф. Предобработка данных не понадобится — вы её уже сделали.\n",
    "\n",
    "Постройте модель с максимально большим значением *accuracy*. Чтобы сдать проект успешно, нужно довести долю правильных ответов по крайней мере до 0.75. Проверьте *accuracy* на тестовой выборке самостоятельно."
   ]
  },
  {
   "cell_type": "markdown",
   "metadata": {},
   "source": [
    "## Откройте и изучите файл"
   ]
  },
  {
   "cell_type": "code",
   "execution_count": 24,
   "metadata": {},
   "outputs": [],
   "source": [
    "import pandas as pd\n",
    "from sklearn.ensemble import RandomForestClassifier\n",
    "from sklearn.tree import DecisionTreeClassifier\n",
    "from sklearn.linear_model import LogisticRegression\n",
    "from sklearn.model_selection import train_test_split, GridSearchCV, cross_val_score\n",
    "from sklearn.dummy import DummyClassifier"
   ]
  },
  {
   "cell_type": "markdown",
   "metadata": {},
   "source": [
    "<img src=\"https://emojigraph.org/media/apple/check-mark-button_2705.png\" align=left width=33, heigth=33>\n",
    "<div class=\"alert alert-success\">\n",
    "Отлично, все нужные библиотеки импортированы в начале ноутбука.Это хорошая практика.</div>"
   ]
  },
  {
   "cell_type": "code",
   "execution_count": 25,
   "metadata": {},
   "outputs": [],
   "source": [
    "df = pd.read_csv('/datasets/users_behavior.csv')"
   ]
  },
  {
   "cell_type": "code",
   "execution_count": 26,
   "metadata": {},
   "outputs": [
    {
     "data": {
      "text/html": [
       "<div>\n",
       "<style scoped>\n",
       "    .dataframe tbody tr th:only-of-type {\n",
       "        vertical-align: middle;\n",
       "    }\n",
       "\n",
       "    .dataframe tbody tr th {\n",
       "        vertical-align: top;\n",
       "    }\n",
       "\n",
       "    .dataframe thead th {\n",
       "        text-align: right;\n",
       "    }\n",
       "</style>\n",
       "<table border=\"1\" class=\"dataframe\">\n",
       "  <thead>\n",
       "    <tr style=\"text-align: right;\">\n",
       "      <th></th>\n",
       "      <th>calls</th>\n",
       "      <th>minutes</th>\n",
       "      <th>messages</th>\n",
       "      <th>mb_used</th>\n",
       "      <th>is_ultra</th>\n",
       "    </tr>\n",
       "  </thead>\n",
       "  <tbody>\n",
       "    <tr>\n",
       "      <th>0</th>\n",
       "      <td>40.0</td>\n",
       "      <td>311.90</td>\n",
       "      <td>83.0</td>\n",
       "      <td>19915.42</td>\n",
       "      <td>0</td>\n",
       "    </tr>\n",
       "    <tr>\n",
       "      <th>1</th>\n",
       "      <td>85.0</td>\n",
       "      <td>516.75</td>\n",
       "      <td>56.0</td>\n",
       "      <td>22696.96</td>\n",
       "      <td>0</td>\n",
       "    </tr>\n",
       "    <tr>\n",
       "      <th>2</th>\n",
       "      <td>77.0</td>\n",
       "      <td>467.66</td>\n",
       "      <td>86.0</td>\n",
       "      <td>21060.45</td>\n",
       "      <td>0</td>\n",
       "    </tr>\n",
       "    <tr>\n",
       "      <th>3</th>\n",
       "      <td>106.0</td>\n",
       "      <td>745.53</td>\n",
       "      <td>81.0</td>\n",
       "      <td>8437.39</td>\n",
       "      <td>1</td>\n",
       "    </tr>\n",
       "    <tr>\n",
       "      <th>4</th>\n",
       "      <td>66.0</td>\n",
       "      <td>418.74</td>\n",
       "      <td>1.0</td>\n",
       "      <td>14502.75</td>\n",
       "      <td>0</td>\n",
       "    </tr>\n",
       "  </tbody>\n",
       "</table>\n",
       "</div>"
      ],
      "text/plain": [
       "   calls  minutes  messages   mb_used  is_ultra\n",
       "0   40.0   311.90      83.0  19915.42         0\n",
       "1   85.0   516.75      56.0  22696.96         0\n",
       "2   77.0   467.66      86.0  21060.45         0\n",
       "3  106.0   745.53      81.0   8437.39         1\n",
       "4   66.0   418.74       1.0  14502.75         0"
      ]
     },
     "execution_count": 26,
     "metadata": {},
     "output_type": "execute_result"
    }
   ],
   "source": [
    "df.head()"
   ]
  },
  {
   "cell_type": "code",
   "execution_count": 27,
   "metadata": {},
   "outputs": [
    {
     "name": "stdout",
     "output_type": "stream",
     "text": [
      "<class 'pandas.core.frame.DataFrame'>\n",
      "RangeIndex: 3214 entries, 0 to 3213\n",
      "Data columns (total 5 columns):\n",
      " #   Column    Non-Null Count  Dtype  \n",
      "---  ------    --------------  -----  \n",
      " 0   calls     3214 non-null   float64\n",
      " 1   minutes   3214 non-null   float64\n",
      " 2   messages  3214 non-null   float64\n",
      " 3   mb_used   3214 non-null   float64\n",
      " 4   is_ultra  3214 non-null   int64  \n",
      "dtypes: float64(4), int64(1)\n",
      "memory usage: 125.7 KB\n"
     ]
    }
   ],
   "source": [
    "df.info()"
   ]
  },
  {
   "cell_type": "markdown",
   "metadata": {},
   "source": [
    "<img src=\"https://emojigraph.org/media/apple/check-mark-button_2705.png\" align=left width=33, heigth=33>\n",
    "<div class=\"alert alert-success\">\n",
    "Данные загружены и исследованы.</div>"
   ]
  },
  {
   "cell_type": "markdown",
   "metadata": {},
   "source": [
    "## Разбейте данные на выборки"
   ]
  },
  {
   "cell_type": "code",
   "execution_count": 28,
   "metadata": {},
   "outputs": [],
   "source": [
    "features = df.drop(\"is_ultra\", axis = 1) #выделяем признаки\n",
    "target = df['is_ultra'] #выделяем целевой признак"
   ]
  },
  {
   "cell_type": "code",
   "execution_count": 29,
   "metadata": {},
   "outputs": [],
   "source": [
    "features_train, features_test, target_train, target_test = train_test_split(\n",
    "    features, target, train_size=0.75, random_state=12345, stratify=target) #разбиваем данные на обучающие и тестовые"
   ]
  },
  {
   "cell_type": "markdown",
   "metadata": {},
   "source": [
    "<img src=\"https://emojigraph.org/media/apple/check-mark-button_2705.png\" align=left width=33, heigth=33>\n",
    "<div class=\"alert alert-success\">\n",
    "Совет:  обрати внимание на аргумент stratify функции train_test_split. Стратификация особенно важна, когда у нас мало данных и возможен дисбаланс классов в обучении / валидации / тесте.\n",
    "</div>"
   ]
  },
  {
   "cell_type": "markdown",
   "metadata": {},
   "source": [
    "<div class=\"alert alert-info\">\n",
    "<b> Комментарий студента</b>\n",
    "\n",
    "\n",
    "Привет, Дмитрий! Спасибо за совет. Почитал, подумал и решил использовать))\n",
    "</div>"
   ]
  },
  {
   "cell_type": "markdown",
   "metadata": {},
   "source": [
    "<img src=\"https://emojigraph.org/media/apple/check-mark-button_2705.png\" align=left width=33, heigth=33>\n",
    "<div class=\"alert alert-success\">\n",
    "<b>v2</b> 👍 </div>"
   ]
  },
  {
   "cell_type": "markdown",
   "metadata": {},
   "source": [
    "## Исследуйте модели"
   ]
  },
  {
   "cell_type": "markdown",
   "metadata": {},
   "source": [
    "Модель Решающее дерево"
   ]
  },
  {
   "cell_type": "code",
   "execution_count": 30,
   "metadata": {},
   "outputs": [
    {
     "data": {
      "text/plain": [
       "0.7900414937759336"
      ]
     },
     "execution_count": 30,
     "metadata": {},
     "output_type": "execute_result"
    }
   ],
   "source": [
    "param_grid = {'max_depth': [1, 2, 3, 4, 5, 6, 7, 8, 9, 10]}\n",
    "model = DecisionTreeClassifier()\n",
    "model_tree = GridSearchCV(model, param_grid, cv=5)\n",
    "model_tree.fit(features_train, target_train)\n",
    "model_tree.best_score_"
   ]
  },
  {
   "cell_type": "markdown",
   "metadata": {},
   "source": [
    "<img src=\"https://emojigraph.org/media/apple/check-mark-button_2705.png\" align=left width=33, heigth=33>\n",
    "<div class=\"alert alert-success\">\n",
    "Круто, иcпользовть поиск по сетке в первом проекте по ML. Если выходишь на этот уровень, то пожалуйста глубоко разберись как работает кросс-валидация. Потому что неправильное применение часто приводит к утечкам.\n",
    "\n",
    "Так, например, в следующем проекте очень сложно правильно применить поиск по сетке.\n",
    "    \n",
    "Но в любом случае оставлю тебе ссылки для ознакомления.\n",
    "    \n",
    "https://academy.yandex.ru/handbook/ml/article/podbor-giperparametrov\n",
    "    \n",
    "https://newtechaudit.ru/gridsearchcv-pomoshhnik-v-vybore/\n",
    "    \n",
    "    \n",
    "А вот эта статья поможет тебе не совершить \"детские ошибки\" в следующем проекте, если ты вдруг решишь использовтаь поиск по сетке для подбора гиперпараметров\n",
    "    \n",
    "https://datascience.xyz/practice/kak-delat-kross-validaciju-pri-apsemplinge-dannyh.html\n",
    "    \n",
    "И еще немного шпаргалок оставлю в самом конце проекта.\n",
    "</div>"
   ]
  },
  {
   "cell_type": "markdown",
   "metadata": {},
   "source": [
    "Модель Случайный лес"
   ]
  },
  {
   "cell_type": "code",
   "execution_count": 31,
   "metadata": {},
   "outputs": [
    {
     "data": {
      "text/plain": [
       "0.8037344398340249"
      ]
     },
     "execution_count": 31,
     "metadata": {},
     "output_type": "execute_result"
    }
   ],
   "source": [
    "param_grid = {'max_depth': [1, 2, 3, 4, 5, 6, 7, 8, 9, 10], 'n_estimators': [10, 20, 30, 40, 50]}\n",
    "model = RandomForestClassifier()\n",
    "model_forest = GridSearchCV(model, param_grid, cv=5)\n",
    "model_forest.fit(features_train, target_train)\n",
    "model_forest.best_score_"
   ]
  },
  {
   "cell_type": "markdown",
   "metadata": {},
   "source": [
    "<img src=\"https://emojigraph.org/media/apple/check-mark-button_2705.png\" align=left width=33, heigth=33>\n",
    "<div class=\"alert alert-success\">\n",
    " 👍 </div>"
   ]
  },
  {
   "cell_type": "markdown",
   "metadata": {},
   "source": [
    "Модель Логистическая регрессия"
   ]
  },
  {
   "cell_type": "code",
   "execution_count": 32,
   "metadata": {},
   "outputs": [
    {
     "data": {
      "text/plain": [
       "0.7448132780082988"
      ]
     },
     "execution_count": 32,
     "metadata": {},
     "output_type": "execute_result"
    }
   ],
   "source": [
    "model_log = LogisticRegression(random_state=12345, solver='lbfgs', max_iter=1000)\n",
    "model_log.fit(features_train, target_train)\n",
    "\n",
    "scores_list = cross_val_score(model_log,\n",
    "                              X=features_train, \n",
    "                              y=target_train, \n",
    "                              cv=5  \n",
    "                              )\n",
    "scores_list.mean()"
   ]
  },
  {
   "cell_type": "markdown",
   "metadata": {},
   "source": [
    "<img src=\"https://upload.wikimedia.org/wikipedia/commons/thumb/8/81/Stop_sign.png/240px-Stop_sign.png\" align=left width=35, heigth=35>\n",
    "<div class=\"alert alert-danger\">\n",
    "Не стоит раньше времени подглядывать в тестовую выборку. Вначале обучим все модели и выберем лучшую по оценкам на крос-валидации и только потом протестируем лучшую модель.\n",
    "\n",
    "Если не подбираешь гиперпараметры с помощью поиска по сетке - используй кросс-валидацию.\n",
    "\n",
    "</div>"
   ]
  },
  {
   "cell_type": "markdown",
   "metadata": {},
   "source": [
    "<div class=\"alert alert-info\">\n",
    "<b> Комментарий студента</b>\n",
    "\n",
    "\n",
    "Исправил.\n",
    "</div>"
   ]
  },
  {
   "cell_type": "markdown",
   "metadata": {},
   "source": [
    "<img src=\"https://emojigraph.org/media/apple/check-mark-button_2705.png\" align=left width=33, heigth=33>\n",
    "<div class=\"alert alert-success\">\n",
    "<b>v2</b> 👍 </div>"
   ]
  },
  {
   "cell_type": "markdown",
   "metadata": {},
   "source": [
    "<img src=\"https://emojigraph.org/media/apple/check-mark-button_2705.png\" align=left width=33, heigth=33>\n",
    "<div class=\"alert alert-success\"> \n",
    "<b>минутка теории</b>\n",
    "    \n",
    "\n",
    "<b>Как узнать оценку по кросс-валидации если гиперпараметры не подбирались?</b>\n",
    "Просто применяем кросс-валидацию\n",
    "\n",
    "\tfrom sklearn.model_selection import cross_val_score\n",
    "\n",
    "    scores_list = cross_val_score(estimator=model, \n",
    "                                  X=features_train, \n",
    "                                  y=target_train, \n",
    "                                  cv=5,  \n",
    "                                  scoring=scorer)\n",
    "    \n",
    "    val_score = scores_list.mean()\n",
    "    \n",
    "\n",
    "    \n",
    "<a href=\"https://scikit-learn.org/stable/modules/generated/sklearn.model_selection.cross_val_score.html\">Документация</a>    \n",
    "\n",
    "\n",
    "\n",
    "\n",
    "</div>"
   ]
  },
  {
   "cell_type": "markdown",
   "metadata": {},
   "source": [
    "Наивысшее accuracy показала модель \"Случайный лес\"."
   ]
  },
  {
   "cell_type": "markdown",
   "metadata": {},
   "source": [
    "<img src=\"https://emojigraph.org/media/apple/check-mark-button_2705.png\" align=left width=33, heigth=33>\n",
    "<div class=\"alert alert-success\">\n",
    "Молодец, есть выводы, и выбрана лучша модель. \n",
    "</div>\n"
   ]
  },
  {
   "cell_type": "markdown",
   "metadata": {},
   "source": [
    "## Проверьте модель на тестовой выборке"
   ]
  },
  {
   "cell_type": "code",
   "execution_count": 33,
   "metadata": {},
   "outputs": [
    {
     "data": {
      "text/plain": [
       "0.8072139303482587"
      ]
     },
     "execution_count": 33,
     "metadata": {},
     "output_type": "execute_result"
    }
   ],
   "source": [
    "model_forest.score(features_test, target_test)"
   ]
  },
  {
   "cell_type": "markdown",
   "metadata": {},
   "source": [
    "<img src=\"https://emojigraph.org/media/apple/check-mark-button_2705.png\" align=left width=33, heigth=33>\n",
    "<div class=\"alert alert-success\">\n",
    "Молодец: \n",
    "    \n",
    "  - выбрана лучшая модель\n",
    "  - тестирование произведено корректно \n",
    "  - достигнута хорошая точность на тестовой выборке\n",
    "</div>\n"
   ]
  },
  {
   "cell_type": "markdown",
   "metadata": {},
   "source": [
    "Accuracy тестовой выборки близка по значению к accuracy валидационной выборки."
   ]
  },
  {
   "cell_type": "markdown",
   "metadata": {},
   "source": [
    "## (бонус) Проверьте модели на адекватность"
   ]
  },
  {
   "cell_type": "markdown",
   "metadata": {},
   "source": [
    "Построим dummy модель по стратегии most_frequent. Т.е. dummy модель будет возвращать наиболее часто используемую метку класса. И сравним accuracy на тестовой выборке нашей модели и dummy."
   ]
  },
  {
   "cell_type": "code",
   "execution_count": 34,
   "metadata": {},
   "outputs": [
    {
     "data": {
      "text/plain": [
       "0.6940298507462687"
      ]
     },
     "execution_count": 34,
     "metadata": {},
     "output_type": "execute_result"
    }
   ],
   "source": [
    "dummy_clf = DummyClassifier(strategy=\"most_frequent\")\n",
    "dummy_clf.fit(features_train, target_train)\n",
    "dummy_clf.score(features_test, target_test)"
   ]
  },
  {
   "cell_type": "markdown",
   "metadata": {},
   "source": [
    "<img src=\"https://emojigraph.org/media/apple/check-mark-button_2705.png\" align=left width=33, heigth=33>\n",
    "<div class=\"alert alert-success\">\n",
    " 👍 Молодец, верно применен Dummy Classifier для оценки стратегии предсказания самого частого ответа.</div>"
   ]
  },
  {
   "cell_type": "markdown",
   "metadata": {},
   "source": [
    "На тестовой выборке accuracy нашей модели выше, значит она работает адекватно."
   ]
  },
  {
   "cell_type": "markdown",
   "metadata": {},
   "source": [
    "## Чек-лист готовности проекта"
   ]
  },
  {
   "cell_type": "markdown",
   "metadata": {},
   "source": [
    "Поставьте 'x' в выполненных пунктах. Далее нажмите Shift+Enter."
   ]
  },
  {
   "cell_type": "markdown",
   "metadata": {},
   "source": [
    "- [x] Jupyter Notebook открыт\n",
    "- [ ] Весь код исполняется без ошибок\n",
    "- [ ] Ячейки с кодом расположены в порядке исполнения\n",
    "- [ ] Выполнено задание 1: данные загружены и изучены\n",
    "- [ ] Выполнено задание 2: данные разбиты на три выборки\n",
    "- [ ] Выполнено задание 3: проведено исследование моделей\n",
    "    - [ ] Рассмотрено больше одной модели\n",
    "    - [ ] Рассмотрено хотя бы 3 значения гипепараметров для какой-нибудь модели\n",
    "    - [ ] Написаны выводы по результатам исследования\n",
    "- [ ] Выполнено задание 3: Проведено тестирование\n",
    "- [ ] Удалось достичь accuracy не меньше 0.75\n"
   ]
  },
  {
   "cell_type": "markdown",
   "metadata": {},
   "source": [
    "<img src=\"http://s3.amazonaws.com/pix.iemoji.com/images/emoji/apple/ios-12/256/waving-hand.png\" align=left width=44, heigth=44>\n",
    "<div class=\"alert alert-info\">\n",
    "<b> Заключительный комментарий</b>\n",
    "\n",
    "В целом мне все понравилось: твоя работа выполнена на хорошем уровне с минимальными помарками.\n",
    "Также работа выглядит аккуратной и хорошо оформленной.\n",
    "Вижу, что тебе дается python, и инструментарий машинного обучения.  \n",
    "   \n",
    " Корректное использование поиска по сетке - это 🔥\n",
    "    \n",
    " \n",
    "Единственная проблема - подглядывание в тестовую выборку на этапе выбора модели. Пожалуйста, используй кросс-валидацию для оценки логистической регрессии. Можно конечно переписать проект под использование валидационной выборки, но это шаг назад.    \n",
    "     \n",
    "Жду твой проект на финальное ревью :)\n",
    "</div>"
   ]
  },
  {
   "cell_type": "markdown",
   "metadata": {},
   "source": [
    "<img src=\"http://s3.amazonaws.com/pix.iemoji.com/images/emoji/apple/ios-12/256/waving-hand.png\" align=left width=44, heigth=44>\n",
    "<div class=\"alert alert-info\">\n",
    "<b> Заключительный комментарий v2</b>\n",
    "\n",
    "Молодец, корректно использовал для оценки метрики для модели логистической регрессии.\n",
    "\n",
    "Проект принят. Поздравляю и желаю дальнейших успехов!</div>"
   ]
  },
  {
   "cell_type": "markdown",
   "metadata": {},
   "source": [
    "<img src=\"https://emojigraph.org/media/apple/check-mark-button_2705.png\" align=left width=33, heigth=33>\n",
    "<div class=\"alert alert-success\"> \n",
    "<b>минутка теории</b>\n",
    "    \n",
    "<b>общий дизайн ML исследования</b>\n",
    "\n",
    "В курсе мы используем следующую схему оценки качества алгоритмов:\n",
    "\n",
    "1. Все данные делятся на 3 части: \n",
    "   - обучение,\n",
    "   - валидация,\n",
    "   - тест.\n",
    "\n",
    "2. Каждый из алгоритмов будет обучен на обучающей выборке. \n",
    "3. Подбор гиперпараметров мы осуществляем с помощью оценки на валидационной выборке.\n",
    "4. Когда гиперпараметры подобраны, качество каждого алгоритма мы оцениваем с помощью валидационной выборки.\n",
    "    \n",
    "5. Выбираем лучший по оценке на валидационной выборке.\n",
    "6. И уже самый лучший алгоритм оцениваем по тестовой выборке.\n",
    "\n",
    "\n",
    "Есть более системный вариант этой схемы, с использованием кросс-валидации. В этом случае  схема немного адаптируется. \n",
    "\n",
    "Все данные делятся на 2 части, первая будет использоваться для обучения и подбора гиперпараметров, и оценки алгоритмов с помощью кросс-валидации, вторая будет использоваться для финального тестирования.\n",
    "    \n",
    "    \n",
    "Я советую до начала обучения моделей  решить для себя, какую стратегию стоит использовать в проекте (с кросс-валидацией или с выделением отдельной валидационной выборки).    \n",
    "\n",
    "\n",
    "<b>Дополнительные материалы:</b>    \n",
    "    \n",
    "    \n",
    "<a href=\"https://academy.yandex.ru/handbook/ml/article/kross-validaciya\">Онлайн-учебник по машинному обучению от ШАД</a>        \n",
    "        \n",
    "    \n",
    "<a href=\"https://github.com/minhdai2410/machine-learning-data-analysis-yandex-mipt-coursera/blob/master/2%20Supervised%20Learning/Lectures/2-1.Problema_pereobucheniya_i_bor_ba_s_nej.pdf\">Конспект специализации Машинное обучение и анализ данных</a>, внимание двум последним страницам.\n",
    "</div>"
   ]
  },
  {
   "cell_type": "markdown",
   "metadata": {},
   "source": [
    "<img src=\"https://emojigraph.org/media/apple/check-mark-button_2705.png\" align=left width=33, heigth=33>\n",
    "<div class=\"alert alert-success\"> \n",
    "<b>минутка теории</b>\n",
    "    \n",
    "<b>Что такое кросс-валидация</b>:\n",
    "\n",
    "Это более системный подход, альтернатива стандартной валидационной выборке.  При кросс-валидации выборка делится на k блоков примерно одинакового размера.  Далее по очереди каждый из этих блоков используется для оценки модели (в качестве валидационной выборки), остальные используются в качестве обучающей выборки. \n",
    "\n",
    "После того, как каждый из блоков будет использован в качестве валидационного, мы получим k оценок качества модели. Усредняя эти оценки мы получаем оценку модели по кросс-валидации.\n",
    "\n",
    "\n",
    "\n",
    "    \n",
    "<a href=\"https://academy.yandex.ru/handbook/ml/article/kross-validaciya\">Онлайн-учебник по машинному обучению от ШАД</a>        \n",
    "    \n",
    "\n",
    "<a href=\"https://github.com/minhdai2410/machine-learning-data-analysis-yandex-mipt-coursera/blob/master/2%20Supervised%20Learning/Lectures/2-1.Problema_pereobucheniya_i_bor_ba_s_nej.pdf\">Конспект специализации Машинное обучение и анализ данных</a> , кросс-валидация подбробно разобрана на последних двух страницах.   \n",
    " \n",
    "    \n",
    "\n",
    "    \n",
    "    \n",
    "</div>"
   ]
  },
  {
   "cell_type": "markdown",
   "metadata": {},
   "source": [
    "<img src=\"https://emojigraph.org/media/apple/check-mark-button_2705.png\" align=left width=33, heigth=33>\n",
    "<div class=\"alert alert-success\"> \n",
    "<b>минутка теории</b>\n",
    "    \n",
    "<b>Как узнать оценку по кросс-валидации при использовании поиска по сетке?</b>\n",
    " Оценка хранится в атрибуте best_score_\n",
    "\n",
    "\tfrom sklearn.model_selection import GridSearchCV\n",
    "    gsearch = GridSearchCV(estimator=model, \n",
    "                           cv=5, \n",
    "\t\t\t\t           param_grid=param_search,  \n",
    "\t\t\t               scoring=scorer)\n",
    "\tgsearch.fit(X, y)\t\n",
    "\tprint(f’ качество модели по кросс-валидации равно {gsearch.best_score_}’)\n",
    "    \n",
    "<a href=\"https://scikit-learn.org/stable/modules/generated/sklearn.model_selection.GridSearchCV.html\">Документация</a>    \n",
    "\n",
    "\n",
    "<b>Как узнать оценку по кросс-валидации если гиперпараметры не подбирались?</b>\n",
    "Просто применяем кросс-валидацию\n",
    "\n",
    "\tfrom sklearn.model_selection import cross_val_score\n",
    "\n",
    "    scores_list = cross_val_score(estimator=model, \n",
    "                                  X=features_train, \n",
    "                                  y=target_train, \n",
    "                                  cv=5,  \n",
    "                                  scoring=scorer)\n",
    "    \n",
    "    val_score = scores_list.mean()\n",
    "    \n",
    "\n",
    "    \n",
    "<a href=\"https://scikit-learn.org/stable/modules/generated/sklearn.model_selection.cross_val_score.html\">Документация</a>    \n",
    "\n",
    "\n",
    "\n",
    "\n",
    "</div>"
   ]
  },
  {
   "cell_type": "markdown",
   "metadata": {},
   "source": [
    "<img src=\"https://emojigraph.org/media/apple/check-mark-button_2705.png\" align=left width=33, heigth=33>\n",
    "<div class=\"alert alert-success\"> \n",
    "<b>минутка теории</b>\n",
    "    \n",
    "<b>Используем GridSearchCV правильно</b>\n",
    "\n",
    "При создании объекта GridSearchCV важно определить следующие составляющие:\n",
    "  \n",
    "  - estimator - модель, для которой будем подбирать гиперпарметры\n",
    "  - param_grid  - (пространство параметров)\n",
    "  - cv - схема кросс-валидации\n",
    "  - scoring скорер (функция для оценки, оптимизируемая метрика)  \n",
    "    \n",
    "    \n",
    "\n",
    "    from sklearn.model_selection import GridSearchCV\n",
    "    gsearch = GridSearchCV(estimator=model, \n",
    "                           cv=5, \n",
    "\t\t\t\t           param_grid=param_search,  \n",
    "\t\t\t               scoring=scorer)\n",
    "    \n",
    "    \n",
    "Важно определить все составляющие, т.к. если мы что-то упустим, то они будут заменены на значения по умолчанию:\n",
    "  \n",
    "  - cv = 5 (стандартная кросс-валидация по 5 фолдам)\n",
    "  - scoring = 'accuracy' для задачи классификации и 'r2' для регрессии. \n",
    "     \n",
    "    \n",
    "Часто можно использовать стандартный скорер из библиотеки sklearn (<a href=\"https://scikit-learn.org/stable/modules/model_evaluation.html#scoring-parameter\">ссылка</a>), или создать собственный с помощью функции <a href=\"https://scikit-learn.org/stable/modules/generated/sklearn.metrics.make_scorer.html\">make_scorer</a>   \n",
    "    \n",
    "Как узнать, какие гиперпараметры можно подбирать? \n",
    "    \n",
    "    model.get_params().keys()\n",
    "    \n",
    "  \n",
    "    \n",
    "    \n",
    "    \n",
    "Следующим шагом мы обучаем полученный объект на обучающей выборке:\n",
    "    \n",
    "\n",
    "    gsearch.fit(X, y)\t\n",
    "\n",
    "Теперь, когда объект GridSearchCV обучен, нужно посмотреть, какую информацию мы можем извлечь из него.\n",
    "    \n",
    "Лучшая модель хранится в атрибуте best_estimator_\n",
    "    \n",
    "    gsearch.best_estimator_\n",
    "    \n",
    "Оценка лучшей модели, полученная с помощью кросс-валидации хранится в атрибуте best_score_\n",
    "    \n",
    "    gsearch.best_score_\n",
    "    \n",
    "Параметры лучшей модели хранятся в атрубите best_params_\n",
    "    \n",
    "    gsearch.best_params_\n",
    "    \n",
    "\n",
    "    \n",
    "Таким образом, один раз обучив объект GridSearchCV мы сразу получаем и лучшую модель и лучшие гиперпараметры и оценку модели полученную с помощью кросс-валидации. И нет  необходимости в дополнительном обучении модели и определении метрик по выделенной валидационной выборке.      \n",
    "    \n",
    "    \n",
    "<a href=\"https://scikit-learn.org/stable/modules/grid_search.html\">Документация</a>    \n",
    "\n",
    "\n",
    "\n",
    "\n",
    "</div>"
   ]
  },
  {
   "cell_type": "markdown",
   "metadata": {},
   "source": []
  },
  {
   "cell_type": "code",
   "execution_count": null,
   "metadata": {},
   "outputs": [],
   "source": []
  }
 ],
 "metadata": {
  "ExecuteTimeLog": [
   {
    "duration": 1041,
    "start_time": "2023-01-10T14:38:11.315Z"
   },
   {
    "duration": 75,
    "start_time": "2023-01-10T14:42:26.664Z"
   },
   {
    "duration": 19,
    "start_time": "2023-01-10T14:42:55.534Z"
   },
   {
    "duration": 11,
    "start_time": "2023-01-10T14:43:06.335Z"
   },
   {
    "duration": 12,
    "start_time": "2023-01-10T14:43:51.928Z"
   },
   {
    "duration": 4,
    "start_time": "2023-01-10T14:57:11.877Z"
   },
   {
    "duration": 6,
    "start_time": "2023-01-10T15:01:05.213Z"
   },
   {
    "duration": 31,
    "start_time": "2023-01-10T15:15:22.912Z"
   },
   {
    "duration": 19,
    "start_time": "2023-01-10T15:17:51.073Z"
   },
   {
    "duration": 20,
    "start_time": "2023-01-10T15:18:18.785Z"
   },
   {
    "duration": 31,
    "start_time": "2023-01-10T15:19:45.244Z"
   },
   {
    "duration": 56,
    "start_time": "2023-01-10T15:20:10.645Z"
   },
   {
    "duration": 32,
    "start_time": "2023-01-10T15:20:30.582Z"
   },
   {
    "duration": 275,
    "start_time": "2023-01-10T15:24:03.257Z"
   },
   {
    "duration": 270,
    "start_time": "2023-01-10T15:24:44.490Z"
   },
   {
    "duration": 1010,
    "start_time": "2023-01-10T15:28:37.651Z"
   },
   {
    "duration": 3816,
    "start_time": "2023-01-10T15:31:49.180Z"
   },
   {
    "duration": 43,
    "start_time": "2023-01-10T15:32:28.908Z"
   },
   {
    "duration": 52,
    "start_time": "2023-01-10T15:33:23.959Z"
   },
   {
    "duration": 34,
    "start_time": "2023-01-10T15:33:32.463Z"
   },
   {
    "duration": 67,
    "start_time": "2023-01-10T15:34:10.265Z"
   },
   {
    "duration": 11,
    "start_time": "2023-01-10T15:36:38.943Z"
   },
   {
    "duration": 6,
    "start_time": "2023-01-10T15:38:25.435Z"
   },
   {
    "duration": 7,
    "start_time": "2023-01-10T15:38:48.580Z"
   },
   {
    "duration": 106,
    "start_time": "2023-01-10T15:40:43.834Z"
   },
   {
    "duration": 9,
    "start_time": "2023-01-10T15:41:47.020Z"
   },
   {
    "duration": 4,
    "start_time": "2023-01-10T15:41:53.764Z"
   },
   {
    "duration": 6,
    "start_time": "2023-01-10T15:54:01.908Z"
   },
   {
    "duration": 4,
    "start_time": "2023-01-10T15:54:03.131Z"
   },
   {
    "duration": 92,
    "start_time": "2023-01-10T15:54:20.171Z"
   },
   {
    "duration": 3462,
    "start_time": "2023-01-10T15:54:25.948Z"
   },
   {
    "duration": 26,
    "start_time": "2023-01-10T15:54:32.060Z"
   },
   {
    "duration": 13,
    "start_time": "2023-01-10T15:54:57.533Z"
   },
   {
    "duration": 3,
    "start_time": "2023-01-10T15:58:19.672Z"
   },
   {
    "duration": 4,
    "start_time": "2023-01-10T15:58:48.576Z"
   },
   {
    "duration": 3,
    "start_time": "2023-01-10T16:06:02.149Z"
   },
   {
    "duration": 49,
    "start_time": "2023-01-10T16:06:02.154Z"
   },
   {
    "duration": 9,
    "start_time": "2023-01-10T16:06:02.205Z"
   },
   {
    "duration": 22,
    "start_time": "2023-01-10T16:06:02.216Z"
   },
   {
    "duration": 25,
    "start_time": "2023-01-10T16:06:02.240Z"
   },
   {
    "duration": 30,
    "start_time": "2023-01-10T16:06:02.266Z"
   },
   {
    "duration": 35,
    "start_time": "2023-01-10T16:06:02.298Z"
   },
   {
    "duration": 5,
    "start_time": "2023-01-10T16:06:14.803Z"
   },
   {
    "duration": 70,
    "start_time": "2023-01-10T16:06:14.810Z"
   },
   {
    "duration": 0,
    "start_time": "2023-01-10T16:06:14.882Z"
   },
   {
    "duration": 0,
    "start_time": "2023-01-10T16:06:14.883Z"
   },
   {
    "duration": 0,
    "start_time": "2023-01-10T16:06:14.885Z"
   },
   {
    "duration": 3,
    "start_time": "2023-01-10T16:06:30.879Z"
   },
   {
    "duration": 38,
    "start_time": "2023-01-10T16:06:30.884Z"
   },
   {
    "duration": 9,
    "start_time": "2023-01-10T16:06:30.924Z"
   },
   {
    "duration": 26,
    "start_time": "2023-01-10T16:06:30.935Z"
   },
   {
    "duration": 4,
    "start_time": "2023-01-10T16:06:30.963Z"
   },
   {
    "duration": 15,
    "start_time": "2023-01-10T16:06:30.968Z"
   },
   {
    "duration": 9,
    "start_time": "2023-01-10T16:06:30.984Z"
   },
   {
    "duration": 76,
    "start_time": "2023-01-10T16:06:30.995Z"
   },
   {
    "duration": 0,
    "start_time": "2023-01-10T16:06:31.072Z"
   },
   {
    "duration": 0,
    "start_time": "2023-01-10T16:06:31.074Z"
   },
   {
    "duration": 0,
    "start_time": "2023-01-10T16:06:31.075Z"
   },
   {
    "duration": 62,
    "start_time": "2023-01-10T16:06:54.357Z"
   },
   {
    "duration": 4,
    "start_time": "2023-01-10T16:06:58.918Z"
   },
   {
    "duration": 39,
    "start_time": "2023-01-10T16:06:58.924Z"
   },
   {
    "duration": 11,
    "start_time": "2023-01-10T16:06:58.965Z"
   },
   {
    "duration": 23,
    "start_time": "2023-01-10T16:06:58.978Z"
   },
   {
    "duration": 15,
    "start_time": "2023-01-10T16:06:59.003Z"
   },
   {
    "duration": 15,
    "start_time": "2023-01-10T16:06:59.020Z"
   },
   {
    "duration": 17,
    "start_time": "2023-01-10T16:06:59.037Z"
   },
   {
    "duration": 77,
    "start_time": "2023-01-10T16:06:59.055Z"
   },
   {
    "duration": 3710,
    "start_time": "2023-01-10T16:06:59.133Z"
   },
   {
    "duration": 46,
    "start_time": "2023-01-10T16:07:02.847Z"
   },
   {
    "duration": 16,
    "start_time": "2023-01-10T16:07:02.896Z"
   },
   {
    "duration": 16,
    "start_time": "2023-01-10T18:16:17.376Z"
   },
   {
    "duration": 3,
    "start_time": "2023-01-10T18:16:27.904Z"
   },
   {
    "duration": 40,
    "start_time": "2023-01-10T18:16:27.909Z"
   },
   {
    "duration": 13,
    "start_time": "2023-01-10T18:16:27.951Z"
   },
   {
    "duration": 30,
    "start_time": "2023-01-10T18:16:27.966Z"
   },
   {
    "duration": 12,
    "start_time": "2023-01-10T18:16:27.998Z"
   },
   {
    "duration": 11,
    "start_time": "2023-01-10T18:16:28.011Z"
   },
   {
    "duration": 7,
    "start_time": "2023-01-10T18:16:28.023Z"
   },
   {
    "duration": 69,
    "start_time": "2023-01-10T18:16:28.031Z"
   },
   {
    "duration": 193,
    "start_time": "2023-01-10T18:16:28.101Z"
   },
   {
    "duration": 3907,
    "start_time": "2023-01-10T18:16:28.297Z"
   },
   {
    "duration": 25,
    "start_time": "2023-01-10T18:16:32.205Z"
   },
   {
    "duration": 14,
    "start_time": "2023-01-10T18:16:32.231Z"
   },
   {
    "duration": 357,
    "start_time": "2023-01-10T18:17:10.968Z"
   },
   {
    "duration": 3,
    "start_time": "2023-01-10T18:17:25.227Z"
   },
   {
    "duration": 41,
    "start_time": "2023-01-10T18:17:25.232Z"
   },
   {
    "duration": 14,
    "start_time": "2023-01-10T18:17:25.275Z"
   },
   {
    "duration": 23,
    "start_time": "2023-01-10T18:17:25.291Z"
   },
   {
    "duration": 10,
    "start_time": "2023-01-10T18:17:25.316Z"
   },
   {
    "duration": 10,
    "start_time": "2023-01-10T18:17:25.327Z"
   },
   {
    "duration": 9,
    "start_time": "2023-01-10T18:17:25.340Z"
   },
   {
    "duration": 83,
    "start_time": "2023-01-10T18:17:25.350Z"
   },
   {
    "duration": 363,
    "start_time": "2023-01-10T18:17:25.434Z"
   },
   {
    "duration": 3889,
    "start_time": "2023-01-10T18:17:25.799Z"
   },
   {
    "duration": 32,
    "start_time": "2023-01-10T18:17:29.690Z"
   },
   {
    "duration": 13,
    "start_time": "2023-01-10T18:17:29.724Z"
   },
   {
    "duration": 18433,
    "start_time": "2023-01-10T18:19:57.851Z"
   },
   {
    "duration": 11,
    "start_time": "2023-01-10T18:26:41.602Z"
   },
   {
    "duration": 18538,
    "start_time": "2023-01-10T18:36:31.148Z"
   },
   {
    "duration": 4,
    "start_time": "2023-01-10T18:39:54.316Z"
   },
   {
    "duration": 34,
    "start_time": "2023-01-10T18:39:54.322Z"
   },
   {
    "duration": 9,
    "start_time": "2023-01-10T18:39:54.358Z"
   },
   {
    "duration": 13,
    "start_time": "2023-01-10T18:39:54.369Z"
   },
   {
    "duration": 6,
    "start_time": "2023-01-10T18:39:54.385Z"
   },
   {
    "duration": 8,
    "start_time": "2023-01-10T18:39:54.393Z"
   },
   {
    "duration": 13,
    "start_time": "2023-01-10T18:39:54.403Z"
   },
   {
    "duration": 75,
    "start_time": "2023-01-10T18:39:54.418Z"
   },
   {
    "duration": 314,
    "start_time": "2023-01-10T18:39:54.495Z"
   },
   {
    "duration": 3750,
    "start_time": "2023-01-10T18:39:54.811Z"
   },
   {
    "duration": 17754,
    "start_time": "2023-01-10T18:39:58.563Z"
   },
   {
    "duration": 24,
    "start_time": "2023-01-10T18:40:16.319Z"
   },
   {
    "duration": 19225,
    "start_time": "2023-01-10T18:40:16.345Z"
   },
   {
    "duration": 17,
    "start_time": "2023-01-10T18:40:35.572Z"
   },
   {
    "duration": 20584,
    "start_time": "2023-01-10T18:42:06.865Z"
   },
   {
    "duration": 440,
    "start_time": "2023-01-10T18:46:43.773Z"
   },
   {
    "duration": 10,
    "start_time": "2023-01-10T18:57:10.046Z"
   },
   {
    "duration": 3,
    "start_time": "2023-01-10T19:00:37.675Z"
   },
   {
    "duration": 94,
    "start_time": "2023-01-10T19:00:37.681Z"
   },
   {
    "duration": 54,
    "start_time": "2023-01-10T19:00:37.779Z"
   },
   {
    "duration": 53,
    "start_time": "2023-01-10T19:00:37.835Z"
   },
   {
    "duration": 57,
    "start_time": "2023-01-10T19:00:37.891Z"
   },
   {
    "duration": 29,
    "start_time": "2023-01-10T19:00:37.950Z"
   },
   {
    "duration": 41,
    "start_time": "2023-01-10T19:00:37.981Z"
   },
   {
    "duration": 416,
    "start_time": "2023-01-10T19:00:38.024Z"
   },
   {
    "duration": 20687,
    "start_time": "2023-01-10T19:00:38.442Z"
   },
   {
    "duration": 165,
    "start_time": "2023-01-10T19:00:59.131Z"
   },
   {
    "duration": 211,
    "start_time": "2023-01-10T19:00:59.298Z"
   },
   {
    "duration": 11,
    "start_time": "2023-01-10T19:03:01.998Z"
   },
   {
    "duration": 11,
    "start_time": "2023-01-10T19:03:08.414Z"
   },
   {
    "duration": 12,
    "start_time": "2023-01-10T19:03:23.799Z"
   },
   {
    "duration": 13,
    "start_time": "2023-01-10T19:03:28.455Z"
   },
   {
    "duration": 5,
    "start_time": "2023-01-10T19:04:16.641Z"
   },
   {
    "duration": 6,
    "start_time": "2023-01-10T19:04:23.569Z"
   },
   {
    "duration": 8,
    "start_time": "2023-01-10T19:22:32.353Z"
   },
   {
    "duration": 4,
    "start_time": "2023-01-10T19:22:38.554Z"
   },
   {
    "duration": 52,
    "start_time": "2023-01-10T19:22:38.559Z"
   },
   {
    "duration": 10,
    "start_time": "2023-01-10T19:22:38.613Z"
   },
   {
    "duration": 27,
    "start_time": "2023-01-10T19:22:38.625Z"
   },
   {
    "duration": 10,
    "start_time": "2023-01-10T19:22:38.654Z"
   },
   {
    "duration": 43,
    "start_time": "2023-01-10T19:22:38.666Z"
   },
   {
    "duration": 19,
    "start_time": "2023-01-10T19:22:38.710Z"
   },
   {
    "duration": 364,
    "start_time": "2023-01-10T19:22:38.731Z"
   },
   {
    "duration": 19846,
    "start_time": "2023-01-10T19:22:39.097Z"
   },
   {
    "duration": 3238,
    "start_time": "2023-01-10T19:22:58.945Z"
   },
   {
    "duration": 104,
    "start_time": "2023-01-10T19:23:02.190Z"
   },
   {
    "duration": 37,
    "start_time": "2023-01-10T19:23:02.297Z"
   },
   {
    "duration": 379,
    "start_time": "2023-01-10T19:35:15.899Z"
   },
   {
    "duration": 173,
    "start_time": "2023-01-10T19:35:42.906Z"
   },
   {
    "duration": 3,
    "start_time": "2023-01-10T20:00:50.620Z"
   },
   {
    "duration": 35,
    "start_time": "2023-01-10T20:00:50.625Z"
   },
   {
    "duration": 10,
    "start_time": "2023-01-10T20:00:50.661Z"
   },
   {
    "duration": 12,
    "start_time": "2023-01-10T20:00:50.672Z"
   },
   {
    "duration": 9,
    "start_time": "2023-01-10T20:00:50.686Z"
   },
   {
    "duration": 10,
    "start_time": "2023-01-10T20:00:50.696Z"
   },
   {
    "duration": 369,
    "start_time": "2023-01-10T20:00:50.708Z"
   },
   {
    "duration": 18547,
    "start_time": "2023-01-10T20:00:51.079Z"
   },
   {
    "duration": 250,
    "start_time": "2023-01-10T20:01:09.628Z"
   },
   {
    "duration": 109,
    "start_time": "2023-01-10T20:01:09.880Z"
   },
   {
    "duration": 13,
    "start_time": "2023-01-10T20:01:09.991Z"
   },
   {
    "duration": 1626,
    "start_time": "2023-01-10T20:37:32.198Z"
   },
   {
    "duration": 79,
    "start_time": "2023-01-10T20:37:33.826Z"
   },
   {
    "duration": 18,
    "start_time": "2023-01-10T20:37:33.906Z"
   },
   {
    "duration": 11,
    "start_time": "2023-01-10T20:37:33.925Z"
   },
   {
    "duration": 4,
    "start_time": "2023-01-10T20:37:33.938Z"
   },
   {
    "duration": 7,
    "start_time": "2023-01-10T20:37:33.944Z"
   },
   {
    "duration": 367,
    "start_time": "2023-01-10T20:37:33.953Z"
   },
   {
    "duration": 17915,
    "start_time": "2023-01-10T20:37:34.322Z"
   },
   {
    "duration": 214,
    "start_time": "2023-01-10T20:37:52.239Z"
   },
   {
    "duration": 102,
    "start_time": "2023-01-10T20:37:52.455Z"
   },
   {
    "duration": 21,
    "start_time": "2023-01-10T20:37:52.559Z"
   },
   {
    "duration": 1182,
    "start_time": "2023-01-11T08:52:55.712Z"
   },
   {
    "duration": 131,
    "start_time": "2023-01-11T08:52:56.896Z"
   },
   {
    "duration": 19,
    "start_time": "2023-01-11T08:52:57.029Z"
   },
   {
    "duration": 12,
    "start_time": "2023-01-11T08:52:57.051Z"
   },
   {
    "duration": 17,
    "start_time": "2023-01-11T08:52:57.065Z"
   },
   {
    "duration": 10,
    "start_time": "2023-01-11T08:52:57.084Z"
   },
   {
    "duration": 403,
    "start_time": "2023-01-11T08:52:57.095Z"
   },
   {
    "duration": 20192,
    "start_time": "2023-01-11T08:52:57.500Z"
   },
   {
    "duration": 525,
    "start_time": "2023-01-11T08:53:17.693Z"
   },
   {
    "duration": 0,
    "start_time": "2023-01-11T08:53:18.221Z"
   },
   {
    "duration": 0,
    "start_time": "2023-01-11T08:53:18.222Z"
   },
   {
    "duration": 979,
    "start_time": "2023-01-11T08:58:41.132Z"
   },
   {
    "duration": 14,
    "start_time": "2023-01-11T09:01:06.204Z"
   },
   {
    "duration": 6,
    "start_time": "2023-01-11T09:01:29.500Z"
   },
   {
    "duration": 3,
    "start_time": "2023-01-11T09:03:03.700Z"
   },
   {
    "duration": 47,
    "start_time": "2023-01-11T09:03:03.705Z"
   },
   {
    "duration": 24,
    "start_time": "2023-01-11T09:03:03.754Z"
   },
   {
    "duration": 55,
    "start_time": "2023-01-11T09:03:03.780Z"
   },
   {
    "duration": 58,
    "start_time": "2023-01-11T09:03:03.836Z"
   },
   {
    "duration": 42,
    "start_time": "2023-01-11T09:03:03.896Z"
   },
   {
    "duration": 461,
    "start_time": "2023-01-11T09:03:03.940Z"
   },
   {
    "duration": 20650,
    "start_time": "2023-01-11T09:03:04.402Z"
   },
   {
    "duration": 1422,
    "start_time": "2023-01-11T09:03:25.054Z"
   },
   {
    "duration": 14,
    "start_time": "2023-01-11T09:03:26.478Z"
   },
   {
    "duration": 11,
    "start_time": "2023-01-11T09:03:26.494Z"
   },
   {
    "duration": 3,
    "start_time": "2023-01-11T09:06:39.944Z"
   },
   {
    "duration": 38,
    "start_time": "2023-01-11T09:06:39.949Z"
   },
   {
    "duration": 10,
    "start_time": "2023-01-11T09:06:39.988Z"
   },
   {
    "duration": 25,
    "start_time": "2023-01-11T09:06:40.000Z"
   },
   {
    "duration": 15,
    "start_time": "2023-01-11T09:06:40.028Z"
   },
   {
    "duration": 12,
    "start_time": "2023-01-11T09:06:40.045Z"
   },
   {
    "duration": 357,
    "start_time": "2023-01-11T09:06:40.059Z"
   },
   {
    "duration": 19549,
    "start_time": "2023-01-11T09:06:40.418Z"
   },
   {
    "duration": 1293,
    "start_time": "2023-01-11T09:06:59.969Z"
   },
   {
    "duration": 11,
    "start_time": "2023-01-11T09:07:01.264Z"
   },
   {
    "duration": 35,
    "start_time": "2023-01-11T09:07:01.276Z"
   }
  ],
  "kernelspec": {
   "display_name": "Python 3 (ipykernel)",
   "language": "python",
   "name": "python3"
  },
  "language_info": {
   "codemirror_mode": {
    "name": "ipython",
    "version": 3
   },
   "file_extension": ".py",
   "mimetype": "text/x-python",
   "name": "python",
   "nbconvert_exporter": "python",
   "pygments_lexer": "ipython3",
   "version": "3.9.5"
  },
  "toc": {
   "base_numbering": 1,
   "nav_menu": {},
   "number_sections": true,
   "sideBar": true,
   "skip_h1_title": true,
   "title_cell": "Table of Contents",
   "title_sidebar": "Contents",
   "toc_cell": false,
   "toc_position": {},
   "toc_section_display": true,
   "toc_window_display": false
  }
 },
 "nbformat": 4,
 "nbformat_minor": 2
}
